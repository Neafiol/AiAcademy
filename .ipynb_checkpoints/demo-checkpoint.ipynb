{
 "cells": [
  {
   "cell_type": "code",
   "execution_count": null,
   "metadata": {},
   "outputs": [],
   "source": [
    "from sklearn.neighbors import KNeighborsClassifier\n",
    "neigh = KNeighborsClassifier(n_neighbors=1,algorithm='ball_tree',leaf_size=50)\n",
    "neigh.fit(X_train, y_train)\n",
    "\n",
    "(neigh.predict(X_valid)==y_valid).mean()\n",
    "\n",
    "### Сделаем линейную модель для предсказания на основе предсказаний более простых моделей\n",
    "\n",
    "%time\n",
    "from sklearn.linear_model import LinearRegression\n",
    "fmod=LinearRegression( normalize=False, copy_X=True)\n",
    "\n",
    "x_pred_cb=clf.predict(X_train)\n",
    "x_pred_cb2=clf2.predict(X_train)\n",
    "km_pred = neigh.predict(X_train)\n",
    "data2=np.array([x_pred_cb,x_pred_cb2,km_pred])\n",
    "%time\n",
    "\n",
    "data2=data2.reshape(69909,3)\n",
    "data2.shape\n",
    "\n",
    "Обучим LinearRegression\n",
    "\n",
    "fmod=LinearRegression( normalize=False, copy_X=True)\n",
    "fmod.fit(data2,y_train)\n",
    "\n",
    "Оцним точность\n",
    "\n",
    "x_pred_cbval=clf.predict(X_valid)\n",
    "x_pred_cb2val=clf2.predict(X_valid)\n",
    "km_predval = neigh.predict(X_valid)\n",
    "data2val=np.array([x_pred_cbval, x_pred_cb2val, km_predval])\n",
    "\n",
    "# data2val=data2val.reshape(data2val.shape[1],3)\n",
    "y_valid.shape\n",
    "\n",
    "p=fmod.predict(data2val)\n",
    "\n",
    "data2.mean()"
   ]
  }
 ],
 "metadata": {
  "kernelspec": {
   "display_name": "Python 3",
   "language": "python",
   "name": "python3"
  },
  "language_info": {
   "codemirror_mode": {
    "name": "ipython",
    "version": 3
   },
   "file_extension": ".py",
   "mimetype": "text/x-python",
   "name": "python",
   "nbconvert_exporter": "python",
   "pygments_lexer": "ipython3",
   "version": "3.7.0"
  }
 },
 "nbformat": 4,
 "nbformat_minor": 2
}
